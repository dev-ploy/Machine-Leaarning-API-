{
 "cells": [
  {
   "cell_type": "code",
   "execution_count": 2,
   "id": "81e63f7d",
   "metadata": {},
   "outputs": [
    {
     "name": "stderr",
     "output_type": "stream",
     "text": [
      "\n",
      "[notice] A new release of pip is available: 23.0.1 -> 25.2\n",
      "[notice] To update, run: python.exe -m pip install --upgrade pip\n"
     ]
    },
    {
     "name": "stdout",
     "output_type": "stream",
     "text": [
      "Collecting requests\n",
      "  Using cached requests-2.32.5-py3-none-any.whl (64 kB)\n",
      "Requirement already satisfied: idna<4,>=2.5 in d:\\house-prediction-api\\venv\\lib\\site-packages (from requests) (3.10)\n",
      "Collecting certifi>=2017.4.17\n",
      "  Using cached certifi-2025.8.3-py3-none-any.whl (161 kB)\n",
      "Collecting charset_normalizer<4,>=2\n",
      "  Using cached charset_normalizer-3.4.3-cp310-cp310-win_amd64.whl (107 kB)\n",
      "Collecting urllib3<3,>=1.21.1\n",
      "  Using cached urllib3-2.5.0-py3-none-any.whl (129 kB)\n",
      "Installing collected packages: urllib3, charset_normalizer, certifi, requests\n",
      "Successfully installed certifi-2025.8.3 charset_normalizer-3.4.3 requests-2.32.5 urllib3-2.5.0\n"
     ]
    }
   ],
   "source": [
    "!pip install requests\n",
    "import requests\n",
    "url=\"http://127.0.0.1:8000/predict\"\n",
    "payload={\"size_sqft\":1500,\"bedrooms\":2}"
   ]
  },
  {
   "cell_type": "code",
   "execution_count": 3,
   "id": "3d33d8e8",
   "metadata": {},
   "outputs": [],
   "source": [
    "response=requests.post(url,json=payload)"
   ]
  },
  {
   "cell_type": "code",
   "execution_count": 4,
   "id": "19eb0991",
   "metadata": {},
   "outputs": [
    {
     "data": {
      "text/plain": [
       "<Response [200]>"
      ]
     },
     "execution_count": 4,
     "metadata": {},
     "output_type": "execute_result"
    }
   ],
   "source": [
    "response"
   ]
  },
  {
   "cell_type": "code",
   "execution_count": 5,
   "id": "6a6112ee",
   "metadata": {},
   "outputs": [
    {
     "data": {
      "text/plain": [
       "{'predicted_price': 573.2520540313366}"
      ]
     },
     "execution_count": 5,
     "metadata": {},
     "output_type": "execute_result"
    }
   ],
   "source": [
    "response.json()"
   ]
  },
  {
   "cell_type": "code",
   "execution_count": 7,
   "id": "fb2af2bf",
   "metadata": {},
   "outputs": [
    {
     "data": {
      "text/plain": [
       "573.2520540313366"
      ]
     },
     "execution_count": 7,
     "metadata": {},
     "output_type": "execute_result"
    }
   ],
   "source": [
    "response.json()['predicted_price']"
   ]
  },
  {
   "cell_type": "code",
   "execution_count": 9,
   "id": "02a74d0d",
   "metadata": {},
   "outputs": [],
   "source": [
    "url=\"http://127.0.0.1:8000/predict_batch\"\n"
   ]
  },
  {
   "cell_type": "code",
   "execution_count": 10,
   "id": "7d51d9e2",
   "metadata": {},
   "outputs": [],
   "source": [
    "payload={\n",
    "    \"houses\":[\n",
    "        {\"size_sqft\":2000,\"bedrooms\":3},\n",
    "        {\"size_sqft\":1500,\"bedrooms\":2},\n",
    "        {\"size_sqft\":2500,\"bedrooms\":5}\n",
    "    ]\n",
    "}"
   ]
  },
  {
   "cell_type": "code",
   "execution_count": 11,
   "id": "0c3f393a",
   "metadata": {},
   "outputs": [],
   "source": [
    "response=requests.post(url,json=payload)"
   ]
  },
  {
   "cell_type": "code",
   "execution_count": 12,
   "id": "1e439b75",
   "metadata": {},
   "outputs": [
    {
     "data": {
      "text/plain": [
       "<Response [200]>"
      ]
     },
     "execution_count": 12,
     "metadata": {},
     "output_type": "execute_result"
    }
   ],
   "source": [
    "response"
   ]
  },
  {
   "cell_type": "code",
   "execution_count": 13,
   "id": "4821a695",
   "metadata": {},
   "outputs": [
    {
     "data": {
      "text/plain": [
       "{'predicted_prices': [757.338465934108, 573.2520540313366, 994.4121722412798]}"
      ]
     },
     "execution_count": 13,
     "metadata": {},
     "output_type": "execute_result"
    }
   ],
   "source": [
    "response.json()"
   ]
  },
  {
   "cell_type": "code",
   "execution_count": null,
   "id": "afeed31f",
   "metadata": {},
   "outputs": [],
   "source": []
  }
 ],
 "metadata": {
  "kernelspec": {
   "display_name": "venv",
   "language": "python",
   "name": "python3"
  },
  "language_info": {
   "codemirror_mode": {
    "name": "ipython",
    "version": 3
   },
   "file_extension": ".py",
   "mimetype": "text/x-python",
   "name": "python",
   "nbconvert_exporter": "python",
   "pygments_lexer": "ipython3",
   "version": "3.10.11"
  }
 },
 "nbformat": 4,
 "nbformat_minor": 5
}
